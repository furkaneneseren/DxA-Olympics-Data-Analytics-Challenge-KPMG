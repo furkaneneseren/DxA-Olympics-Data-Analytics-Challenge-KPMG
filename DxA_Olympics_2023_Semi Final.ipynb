{
 "cells": [
  {
   "cell_type": "code",
   "execution_count": 74,
   "metadata": {},
   "outputs": [],
   "source": [
    "import pandas as pd\n",
    "from sklearn.linear_model import LinearRegression\n",
    "from sklearn.tree import DecisionTreeRegressor\n",
    "from sklearn.ensemble import RandomForestRegressor\n",
    "from sklearn.metrics import mean_squared_error, mean_absolute_error, r2_score\n",
    "import matplotlib.pyplot as plt\n",
    "\n"
   ]
  },
  {
   "cell_type": "code",
   "execution_count": 17,
   "metadata": {},
   "outputs": [],
   "source": [
    "train = pd.read_excel(\"./data/DamDataExcel.xlsx\", usecols=['Date', 'Omerli', 'Darlik', 'Elmali', 'Terkos', 'Alibey',\n",
    "       'Buyukcekmece', 'Sazlidere', 'Kazandere', 'Pabucdere', 'Istrancalar'])"
   ]
  },
  {
   "cell_type": "code",
   "execution_count": 18,
   "metadata": {},
   "outputs": [
    {
     "data": {
      "text/html": [
       "<div>\n",
       "<style scoped>\n",
       "    .dataframe tbody tr th:only-of-type {\n",
       "        vertical-align: middle;\n",
       "    }\n",
       "\n",
       "    .dataframe tbody tr th {\n",
       "        vertical-align: top;\n",
       "    }\n",
       "\n",
       "    .dataframe thead th {\n",
       "        text-align: right;\n",
       "    }\n",
       "</style>\n",
       "<table border=\"1\" class=\"dataframe\">\n",
       "  <thead>\n",
       "    <tr style=\"text-align: right;\">\n",
       "      <th></th>\n",
       "      <th>Date</th>\n",
       "      <th>Omerli</th>\n",
       "      <th>Darlik</th>\n",
       "      <th>Elmali</th>\n",
       "      <th>Terkos</th>\n",
       "      <th>Alibey</th>\n",
       "      <th>Buyukcekmece</th>\n",
       "      <th>Sazlidere</th>\n",
       "      <th>Kazandere</th>\n",
       "      <th>Pabucdere</th>\n",
       "      <th>Istrancalar</th>\n",
       "    </tr>\n",
       "  </thead>\n",
       "  <tbody>\n",
       "    <tr>\n",
       "      <th>0</th>\n",
       "      <td>2017-01-01T00:00:00</td>\n",
       "      <td>81,07%</td>\n",
       "      <td>72,94%</td>\n",
       "      <td>0,52%</td>\n",
       "      <td>44,45%</td>\n",
       "      <td>56,18%</td>\n",
       "      <td>33,13%</td>\n",
       "      <td>34,07%</td>\n",
       "      <td>28,84%</td>\n",
       "      <td>13,07%</td>\n",
       "      <td>40,24%</td>\n",
       "    </tr>\n",
       "    <tr>\n",
       "      <th>1</th>\n",
       "      <td>2017-02-01T00:00:00</td>\n",
       "      <td>82,16%</td>\n",
       "      <td>74,11%</td>\n",
       "      <td>0,51%</td>\n",
       "      <td>44,93%</td>\n",
       "      <td>58,38%</td>\n",
       "      <td>33,63%</td>\n",
       "      <td>34,64%</td>\n",
       "      <td>28,57%</td>\n",
       "      <td>12,99%</td>\n",
       "      <td>34,68%</td>\n",
       "    </tr>\n",
       "    <tr>\n",
       "      <th>2</th>\n",
       "      <td>2017-03-01T00:00:00</td>\n",
       "      <td>82,63%</td>\n",
       "      <td>74,59%</td>\n",
       "      <td>0,51%</td>\n",
       "      <td>45,09%</td>\n",
       "      <td>59,26%</td>\n",
       "      <td>33,63%</td>\n",
       "      <td>34,87%</td>\n",
       "      <td>28,17%</td>\n",
       "      <td>12,93%</td>\n",
       "      <td>29,18%</td>\n",
       "    </tr>\n",
       "    <tr>\n",
       "      <th>3</th>\n",
       "      <td>2017-04-01T00:00:00</td>\n",
       "      <td>82,79%</td>\n",
       "      <td>75,07%</td>\n",
       "      <td>0,52%</td>\n",
       "      <td>45,25%</td>\n",
       "      <td>59,79%</td>\n",
       "      <td>33,80%</td>\n",
       "      <td>35,10%</td>\n",
       "      <td>27,97%</td>\n",
       "      <td>12,84%</td>\n",
       "      <td>23,32%</td>\n",
       "    </tr>\n",
       "    <tr>\n",
       "      <th>4</th>\n",
       "      <td>2017-05-01T00:00:00</td>\n",
       "      <td>82,94%</td>\n",
       "      <td>75,49%</td>\n",
       "      <td>0,52%</td>\n",
       "      <td>45,57%</td>\n",
       "      <td>60,42%</td>\n",
       "      <td>33,80%</td>\n",
       "      <td>35,39%</td>\n",
       "      <td>27,97%</td>\n",
       "      <td>13,10%</td>\n",
       "      <td>26,85%</td>\n",
       "    </tr>\n",
       "  </tbody>\n",
       "</table>\n",
       "</div>"
      ],
      "text/plain": [
       "                  Date  Omerli  Darlik Elmali  Terkos  Alibey Buyukcekmece  \\\n",
       "0  2017-01-01T00:00:00  81,07%  72,94%  0,52%  44,45%  56,18%       33,13%   \n",
       "1  2017-02-01T00:00:00  82,16%  74,11%  0,51%  44,93%  58,38%       33,63%   \n",
       "2  2017-03-01T00:00:00  82,63%  74,59%  0,51%  45,09%  59,26%       33,63%   \n",
       "3  2017-04-01T00:00:00  82,79%  75,07%  0,52%  45,25%  59,79%       33,80%   \n",
       "4  2017-05-01T00:00:00  82,94%  75,49%  0,52%  45,57%  60,42%       33,80%   \n",
       "\n",
       "  Sazlidere Kazandere Pabucdere Istrancalar  \n",
       "0    34,07%    28,84%    13,07%      40,24%  \n",
       "1    34,64%    28,57%    12,99%      34,68%  \n",
       "2    34,87%    28,17%    12,93%      29,18%  \n",
       "3    35,10%    27,97%    12,84%      23,32%  \n",
       "4    35,39%    27,97%    13,10%      26,85%  "
      ]
     },
     "execution_count": 18,
     "metadata": {},
     "output_type": "execute_result"
    }
   ],
   "source": [
    "train.head()"
   ]
  },
  {
   "attachments": {},
   "cell_type": "markdown",
   "metadata": {},
   "source": [
    "## Preprocessing"
   ]
  },
  {
   "cell_type": "code",
   "execution_count": 20,
   "metadata": {},
   "outputs": [],
   "source": [
    "train[\"Date\"] = pd.to_datetime(train[\"Date\"])"
   ]
  },
  {
   "cell_type": "code",
   "execution_count": 21,
   "metadata": {},
   "outputs": [
    {
     "data": {
      "text/plain": [
       "Date            datetime64[ns]\n",
       "Omerli                  object\n",
       "Darlik                  object\n",
       "Elmali                  object\n",
       "Terkos                  object\n",
       "Alibey                  object\n",
       "Buyukcekmece            object\n",
       "Sazlidere               object\n",
       "Kazandere               object\n",
       "Pabucdere               object\n",
       "Istrancalar             object\n",
       "dtype: object"
      ]
     },
     "execution_count": 21,
     "metadata": {},
     "output_type": "execute_result"
    }
   ],
   "source": [
    "train.dtypes"
   ]
  },
  {
   "cell_type": "code",
   "execution_count": 23,
   "metadata": {},
   "outputs": [],
   "source": [
    "train = train.replace(',', '.', regex=True)\n",
    "train['Omerli'] = train['Omerli'].str.rstrip('%').astype('float') / 100.0\n",
    "train['Darlik'] = train['Darlik'].str.rstrip('%').astype('float') / 100.0\n",
    "train['Elmali'] = train['Elmali'].str.rstrip('%').astype('float') / 100.0\n",
    "train['Terkos'] = train['Terkos'].str.rstrip('%').astype('float') / 100.0\n",
    "train['Alibey'] = train['Alibey'].str.rstrip('%').astype('float') / 100.0\n",
    "train['Buyukcekmece'] = train['Buyukcekmece'].str.rstrip('%').astype('float') / 100.0\n",
    "train['Sazlidere'] = train['Sazlidere'].str.rstrip('%').astype('float') / 100.0\n",
    "train['Kazandere'] = train['Kazandere'].str.rstrip('%').astype('float') / 100.0\n",
    "train['Pabucdere'] = train['Pabucdere'].str.rstrip('%').astype('float') / 100.0\n",
    "train['Istrancalar'] = train['Istrancalar'].str.rstrip('%').astype('float') / 100.0"
   ]
  },
  {
   "attachments": {},
   "cell_type": "markdown",
   "metadata": {},
   "source": [
    "## Some Feature Engineering"
   ]
  },
  {
   "cell_type": "code",
   "execution_count": 26,
   "metadata": {},
   "outputs": [],
   "source": [
    "train['Month'] = train['Date'].dt.month"
   ]
  },
  {
   "cell_type": "code",
   "execution_count": 27,
   "metadata": {},
   "outputs": [],
   "source": [
    "train['Quarter'] = train['Date'].dt.quarter"
   ]
  },
  {
   "cell_type": "code",
   "execution_count": 29,
   "metadata": {},
   "outputs": [],
   "source": [
    "def get_season(month):\n",
    "    if month in [12, 1, 2]:\n",
    "        return 'Winter'\n",
    "    elif month in [3, 4, 5]:\n",
    "        return 'Spring'\n",
    "    elif month in [6, 7, 8]:\n",
    "        return 'Summer'\n",
    "    else:\n",
    "        return 'Fall'\n",
    "\n",
    "# Create a column for the season of the year\n",
    "train['Season'] = train['Month'].apply(get_season)"
   ]
  },
  {
   "cell_type": "code",
   "execution_count": 30,
   "metadata": {},
   "outputs": [
    {
     "data": {
      "text/html": [
       "<div>\n",
       "<style scoped>\n",
       "    .dataframe tbody tr th:only-of-type {\n",
       "        vertical-align: middle;\n",
       "    }\n",
       "\n",
       "    .dataframe tbody tr th {\n",
       "        vertical-align: top;\n",
       "    }\n",
       "\n",
       "    .dataframe thead th {\n",
       "        text-align: right;\n",
       "    }\n",
       "</style>\n",
       "<table border=\"1\" class=\"dataframe\">\n",
       "  <thead>\n",
       "    <tr style=\"text-align: right;\">\n",
       "      <th></th>\n",
       "      <th>Date</th>\n",
       "      <th>Omerli</th>\n",
       "      <th>Darlik</th>\n",
       "      <th>Elmali</th>\n",
       "      <th>Terkos</th>\n",
       "      <th>Alibey</th>\n",
       "      <th>Buyukcekmece</th>\n",
       "      <th>Sazlidere</th>\n",
       "      <th>Kazandere</th>\n",
       "      <th>Pabucdere</th>\n",
       "      <th>Istrancalar</th>\n",
       "      <th>Month</th>\n",
       "      <th>Quarter</th>\n",
       "      <th>Season</th>\n",
       "    </tr>\n",
       "  </thead>\n",
       "  <tbody>\n",
       "    <tr>\n",
       "      <th>0</th>\n",
       "      <td>2017-01-01</td>\n",
       "      <td>0.8107</td>\n",
       "      <td>0.7294</td>\n",
       "      <td>0.0052</td>\n",
       "      <td>0.4445</td>\n",
       "      <td>0.5618</td>\n",
       "      <td>0.3313</td>\n",
       "      <td>0.3407</td>\n",
       "      <td>0.2884</td>\n",
       "      <td>0.1307</td>\n",
       "      <td>0.4024</td>\n",
       "      <td>1</td>\n",
       "      <td>1</td>\n",
       "      <td>Winter</td>\n",
       "    </tr>\n",
       "    <tr>\n",
       "      <th>1</th>\n",
       "      <td>2017-02-01</td>\n",
       "      <td>0.8216</td>\n",
       "      <td>0.7411</td>\n",
       "      <td>0.0051</td>\n",
       "      <td>0.4493</td>\n",
       "      <td>0.5838</td>\n",
       "      <td>0.3363</td>\n",
       "      <td>0.3464</td>\n",
       "      <td>0.2857</td>\n",
       "      <td>0.1299</td>\n",
       "      <td>0.3468</td>\n",
       "      <td>2</td>\n",
       "      <td>1</td>\n",
       "      <td>Winter</td>\n",
       "    </tr>\n",
       "    <tr>\n",
       "      <th>2</th>\n",
       "      <td>2017-03-01</td>\n",
       "      <td>0.8263</td>\n",
       "      <td>0.7459</td>\n",
       "      <td>0.0051</td>\n",
       "      <td>0.4509</td>\n",
       "      <td>0.5926</td>\n",
       "      <td>0.3363</td>\n",
       "      <td>0.3487</td>\n",
       "      <td>0.2817</td>\n",
       "      <td>0.1293</td>\n",
       "      <td>0.2918</td>\n",
       "      <td>3</td>\n",
       "      <td>1</td>\n",
       "      <td>Spring</td>\n",
       "    </tr>\n",
       "    <tr>\n",
       "      <th>3</th>\n",
       "      <td>2017-04-01</td>\n",
       "      <td>0.8279</td>\n",
       "      <td>0.7507</td>\n",
       "      <td>0.0052</td>\n",
       "      <td>0.4525</td>\n",
       "      <td>0.5979</td>\n",
       "      <td>0.3380</td>\n",
       "      <td>0.3510</td>\n",
       "      <td>0.2797</td>\n",
       "      <td>0.1284</td>\n",
       "      <td>0.2332</td>\n",
       "      <td>4</td>\n",
       "      <td>2</td>\n",
       "      <td>Spring</td>\n",
       "    </tr>\n",
       "    <tr>\n",
       "      <th>4</th>\n",
       "      <td>2017-05-01</td>\n",
       "      <td>0.8294</td>\n",
       "      <td>0.7549</td>\n",
       "      <td>0.0052</td>\n",
       "      <td>0.4557</td>\n",
       "      <td>0.6042</td>\n",
       "      <td>0.3380</td>\n",
       "      <td>0.3539</td>\n",
       "      <td>0.2797</td>\n",
       "      <td>0.1310</td>\n",
       "      <td>0.2685</td>\n",
       "      <td>5</td>\n",
       "      <td>2</td>\n",
       "      <td>Spring</td>\n",
       "    </tr>\n",
       "  </tbody>\n",
       "</table>\n",
       "</div>"
      ],
      "text/plain": [
       "        Date  Omerli  Darlik  Elmali  Terkos  Alibey  Buyukcekmece  Sazlidere  \\\n",
       "0 2017-01-01  0.8107  0.7294  0.0052  0.4445  0.5618        0.3313     0.3407   \n",
       "1 2017-02-01  0.8216  0.7411  0.0051  0.4493  0.5838        0.3363     0.3464   \n",
       "2 2017-03-01  0.8263  0.7459  0.0051  0.4509  0.5926        0.3363     0.3487   \n",
       "3 2017-04-01  0.8279  0.7507  0.0052  0.4525  0.5979        0.3380     0.3510   \n",
       "4 2017-05-01  0.8294  0.7549  0.0052  0.4557  0.6042        0.3380     0.3539   \n",
       "\n",
       "   Kazandere  Pabucdere  Istrancalar  Month  Quarter  Season  \n",
       "0     0.2884     0.1307       0.4024      1        1  Winter  \n",
       "1     0.2857     0.1299       0.3468      2        1  Winter  \n",
       "2     0.2817     0.1293       0.2918      3        1  Spring  \n",
       "3     0.2797     0.1284       0.2332      4        2  Spring  \n",
       "4     0.2797     0.1310       0.2685      5        2  Spring  "
      ]
     },
     "execution_count": 30,
     "metadata": {},
     "output_type": "execute_result"
    }
   ],
   "source": [
    "train.head()"
   ]
  },
  {
   "attachments": {},
   "cell_type": "markdown",
   "metadata": {},
   "source": [
    "## Train-Test Split"
   ]
  },
  {
   "cell_type": "code",
   "execution_count": 32,
   "metadata": {},
   "outputs": [],
   "source": [
    "test = train[train[\"Date\"].dt.year == 2020]"
   ]
  },
  {
   "cell_type": "code",
   "execution_count": 33,
   "metadata": {},
   "outputs": [
    {
     "data": {
      "text/plain": [
       "(366, 14)"
      ]
     },
     "execution_count": 33,
     "metadata": {},
     "output_type": "execute_result"
    }
   ],
   "source": [
    "test.shape"
   ]
  },
  {
   "cell_type": "code",
   "execution_count": 34,
   "metadata": {},
   "outputs": [],
   "source": [
    "train = train[train[\"Date\"].dt.year != 2020]"
   ]
  },
  {
   "cell_type": "code",
   "execution_count": 35,
   "metadata": {},
   "outputs": [
    {
     "data": {
      "text/plain": [
       "(1095, 14)"
      ]
     },
     "execution_count": 35,
     "metadata": {},
     "output_type": "execute_result"
    }
   ],
   "source": [
    "train.shape"
   ]
  },
  {
   "cell_type": "code",
   "execution_count": 40,
   "metadata": {},
   "outputs": [],
   "source": [
    "train = pd.get_dummies(train, columns=['Season'])"
   ]
  },
  {
   "cell_type": "code",
   "execution_count": 38,
   "metadata": {},
   "outputs": [],
   "source": [
    "test = pd.get_dummies(test, columns=['Season'])"
   ]
  },
  {
   "cell_type": "code",
   "execution_count": 44,
   "metadata": {},
   "outputs": [
    {
     "data": {
      "text/html": [
       "<div>\n",
       "<style scoped>\n",
       "    .dataframe tbody tr th:only-of-type {\n",
       "        vertical-align: middle;\n",
       "    }\n",
       "\n",
       "    .dataframe tbody tr th {\n",
       "        vertical-align: top;\n",
       "    }\n",
       "\n",
       "    .dataframe thead th {\n",
       "        text-align: right;\n",
       "    }\n",
       "</style>\n",
       "<table border=\"1\" class=\"dataframe\">\n",
       "  <thead>\n",
       "    <tr style=\"text-align: right;\">\n",
       "      <th></th>\n",
       "      <th>Date</th>\n",
       "      <th>Omerli</th>\n",
       "      <th>Darlik</th>\n",
       "      <th>Elmali</th>\n",
       "      <th>Terkos</th>\n",
       "      <th>Alibey</th>\n",
       "      <th>Buyukcekmece</th>\n",
       "      <th>Sazlidere</th>\n",
       "      <th>Kazandere</th>\n",
       "      <th>Pabucdere</th>\n",
       "      <th>Istrancalar</th>\n",
       "      <th>Month</th>\n",
       "      <th>Quarter</th>\n",
       "      <th>Season_Fall</th>\n",
       "      <th>Season_Spring</th>\n",
       "      <th>Season_Summer</th>\n",
       "      <th>Season_Winter</th>\n",
       "    </tr>\n",
       "  </thead>\n",
       "  <tbody>\n",
       "    <tr>\n",
       "      <th>0</th>\n",
       "      <td>2017-01-01</td>\n",
       "      <td>0.8107</td>\n",
       "      <td>0.7294</td>\n",
       "      <td>0.0052</td>\n",
       "      <td>0.4445</td>\n",
       "      <td>0.5618</td>\n",
       "      <td>0.3313</td>\n",
       "      <td>0.3407</td>\n",
       "      <td>0.2884</td>\n",
       "      <td>0.1307</td>\n",
       "      <td>0.4024</td>\n",
       "      <td>1</td>\n",
       "      <td>1</td>\n",
       "      <td>0</td>\n",
       "      <td>0</td>\n",
       "      <td>0</td>\n",
       "      <td>1</td>\n",
       "    </tr>\n",
       "    <tr>\n",
       "      <th>1</th>\n",
       "      <td>2017-02-01</td>\n",
       "      <td>0.8216</td>\n",
       "      <td>0.7411</td>\n",
       "      <td>0.0051</td>\n",
       "      <td>0.4493</td>\n",
       "      <td>0.5838</td>\n",
       "      <td>0.3363</td>\n",
       "      <td>0.3464</td>\n",
       "      <td>0.2857</td>\n",
       "      <td>0.1299</td>\n",
       "      <td>0.3468</td>\n",
       "      <td>2</td>\n",
       "      <td>1</td>\n",
       "      <td>0</td>\n",
       "      <td>0</td>\n",
       "      <td>0</td>\n",
       "      <td>1</td>\n",
       "    </tr>\n",
       "    <tr>\n",
       "      <th>2</th>\n",
       "      <td>2017-03-01</td>\n",
       "      <td>0.8263</td>\n",
       "      <td>0.7459</td>\n",
       "      <td>0.0051</td>\n",
       "      <td>0.4509</td>\n",
       "      <td>0.5926</td>\n",
       "      <td>0.3363</td>\n",
       "      <td>0.3487</td>\n",
       "      <td>0.2817</td>\n",
       "      <td>0.1293</td>\n",
       "      <td>0.2918</td>\n",
       "      <td>3</td>\n",
       "      <td>1</td>\n",
       "      <td>0</td>\n",
       "      <td>1</td>\n",
       "      <td>0</td>\n",
       "      <td>0</td>\n",
       "    </tr>\n",
       "    <tr>\n",
       "      <th>3</th>\n",
       "      <td>2017-04-01</td>\n",
       "      <td>0.8279</td>\n",
       "      <td>0.7507</td>\n",
       "      <td>0.0052</td>\n",
       "      <td>0.4525</td>\n",
       "      <td>0.5979</td>\n",
       "      <td>0.3380</td>\n",
       "      <td>0.3510</td>\n",
       "      <td>0.2797</td>\n",
       "      <td>0.1284</td>\n",
       "      <td>0.2332</td>\n",
       "      <td>4</td>\n",
       "      <td>2</td>\n",
       "      <td>0</td>\n",
       "      <td>1</td>\n",
       "      <td>0</td>\n",
       "      <td>0</td>\n",
       "    </tr>\n",
       "    <tr>\n",
       "      <th>4</th>\n",
       "      <td>2017-05-01</td>\n",
       "      <td>0.8294</td>\n",
       "      <td>0.7549</td>\n",
       "      <td>0.0052</td>\n",
       "      <td>0.4557</td>\n",
       "      <td>0.6042</td>\n",
       "      <td>0.3380</td>\n",
       "      <td>0.3539</td>\n",
       "      <td>0.2797</td>\n",
       "      <td>0.1310</td>\n",
       "      <td>0.2685</td>\n",
       "      <td>5</td>\n",
       "      <td>2</td>\n",
       "      <td>0</td>\n",
       "      <td>1</td>\n",
       "      <td>0</td>\n",
       "      <td>0</td>\n",
       "    </tr>\n",
       "  </tbody>\n",
       "</table>\n",
       "</div>"
      ],
      "text/plain": [
       "        Date  Omerli  Darlik  Elmali  Terkos  Alibey  Buyukcekmece  Sazlidere  \\\n",
       "0 2017-01-01  0.8107  0.7294  0.0052  0.4445  0.5618        0.3313     0.3407   \n",
       "1 2017-02-01  0.8216  0.7411  0.0051  0.4493  0.5838        0.3363     0.3464   \n",
       "2 2017-03-01  0.8263  0.7459  0.0051  0.4509  0.5926        0.3363     0.3487   \n",
       "3 2017-04-01  0.8279  0.7507  0.0052  0.4525  0.5979        0.3380     0.3510   \n",
       "4 2017-05-01  0.8294  0.7549  0.0052  0.4557  0.6042        0.3380     0.3539   \n",
       "\n",
       "   Kazandere  Pabucdere  Istrancalar  Month  Quarter  Season_Fall  \\\n",
       "0     0.2884     0.1307       0.4024      1        1            0   \n",
       "1     0.2857     0.1299       0.3468      2        1            0   \n",
       "2     0.2817     0.1293       0.2918      3        1            0   \n",
       "3     0.2797     0.1284       0.2332      4        2            0   \n",
       "4     0.2797     0.1310       0.2685      5        2            0   \n",
       "\n",
       "   Season_Spring  Season_Summer  Season_Winter  \n",
       "0              0              0              1  \n",
       "1              0              0              1  \n",
       "2              1              0              0  \n",
       "3              1              0              0  \n",
       "4              1              0              0  "
      ]
     },
     "execution_count": 44,
     "metadata": {},
     "output_type": "execute_result"
    }
   ],
   "source": [
    "train.head()"
   ]
  },
  {
   "attachments": {},
   "cell_type": "markdown",
   "metadata": {},
   "source": [
    "## Feature-Target"
   ]
  },
  {
   "cell_type": "code",
   "execution_count": 43,
   "metadata": {},
   "outputs": [],
   "source": [
    "features = ['Month', 'Quarter', 'Season_Fall', 'Season_Spring', 'Season_Summer', 'Season_Winter']\n",
    "targets = ['Omerli', 'Darlik', 'Elmali', 'Terkos', 'Alibey', 'Buyukcekmece', 'Sazlidere', 'Kazandere', 'Pabucdere', 'Istrancalar']"
   ]
  },
  {
   "cell_type": "code",
   "execution_count": 46,
   "metadata": {},
   "outputs": [],
   "source": [
    "X_train = train[features]\n",
    "y_train = train[targets]"
   ]
  },
  {
   "cell_type": "code",
   "execution_count": 73,
   "metadata": {},
   "outputs": [
    {
     "data": {
      "image/png": "[encoded data removed]",
      "text/plain": [
       "<Figure size 432x288 with 1 Axes>"
      ]
     },
     "metadata": {
      "needs_background": "light"
     },
     "output_type": "display_data"
    },
    {
     "data": {
      "image/png": "[encoded data removed]",
      "text/plain": [
       "<Figure size 432x288 with 1 Axes>"
      ]
     },
     "metadata": {
      "needs_background": "light"
     },
     "output_type": "display_data"
    },
    {
     "data": {
      "image/png": "[encoded data removed]",
      "text/plain": [
       "<Figure size 432x288 with 1 Axes>"
      ]
     },
     "metadata": {
      "needs_background": "light"
     },
     "output_type": "display_data"
    },
    {
     "data": {
      "image/png": "[encoded data removed]",
      "text/plain": [
       "<Figure size 432x288 with 1 Axes>"
      ]
     },
     "metadata": {
      "needs_background": "light"
     },
     "output_type": "display_data"
    },
    {
     "data": {
      "image/png": "[encoded data removed]",
      "text/plain": [
       "<Figure size 432x288 with 1 Axes>"
      ]
     },
     "metadata": {
      "needs_background": "light"
     },
     "output_type": "display_data"
    },
    {
     "data": {
      "image/png": "[encoded data removed]",
      "text/plain": [
       "<Figure size 432x288 with 1 Axes>"
      ]
     },
     "metadata": {
      "needs_background": "light"
     },
     "output_type": "display_data"
    },
    {
     "data": {
      "image/png": "[encoded data removed]",
      "text/plain": [
       "<Figure size 432x288 with 1 Axes>"
      ]
     },
     "metadata": {
      "needs_background": "light"
     },
     "output_type": "display_data"
    },
    {
     "data": {
      "image/png": "[encoded data removed]",
      "text/plain": [
       "<Figure size 432x288 with 1 Axes>"
      ]
     },
     "metadata": {
      "needs_background": "light"
     },
     "output_type": "display_data"
    },
    {
     "data": {
      "image/png": "[encoded data removed]",
      "text/plain": [
       "<Figure size 432x288 with 1 Axes>"
      ]
     },
     "metadata": {
      "needs_background": "light"
     },
     "output_type": "display_data"
    },
    {
     "data": {
      "image/png": "[encoded data removed]",
      "text/plain": [
       "<Figure size 432x288 with 1 Axes>"
      ]
     },
     "metadata": {
      "needs_background": "light"
     },
     "output_type": "display_data"
    }
   ],
   "source": [
    "for target in targets:\n",
    "    plt.scatter(train[target], train[features[0]])\n",
    "    plt.title(f\"{target} vs {features[0]}\")\n",
    "    plt.xlabel(features[0])\n",
    "    plt.ylabel(target)\n",
    "    plt.show()"
   ]
  },
  {
   "attachments": {},
   "cell_type": "markdown",
   "metadata": {},
   "source": [
    "## ML"
   ]
  },
  {
   "attachments": {},
   "cell_type": "markdown",
   "metadata": {},
   "source": [
    "### Linear Regression"
   ]
  },
  {
   "cell_type": "code",
   "execution_count": 76,
   "metadata": {},
   "outputs": [
    {
     "data": {
      "text/plain": [
       "LinearRegression()"
      ]
     },
     "execution_count": 76,
     "metadata": {},
     "output_type": "execute_result"
    }
   ],
   "source": [
    "model = LinearRegression()\n",
    "model.fit(X_train, y_train)"
   ]
  },
  {
   "cell_type": "code",
   "execution_count": 50,
   "metadata": {},
   "outputs": [],
   "source": [
    "X_test = test[features]\n",
    "y_test = test[targets]"
   ]
  },
  {
   "cell_type": "code",
   "execution_count": 53,
   "metadata": {},
   "outputs": [],
   "source": [
    "y_pred = model.predict(X_test)"
   ]
  },
  {
   "cell_type": "code",
   "execution_count": 59,
   "metadata": {},
   "outputs": [
    {
     "name": "stdout",
     "output_type": "stream",
     "text": [
      "RMSE:  0.3775504148773132\n",
      "MSE:  0.16912356362132447\n",
      "MAE:  0.3515670874042337\n",
      "R2:  -22.548778671311428\n"
     ]
    }
   ],
   "source": [
    "rmse_err = mean_squared_error(y_test, y_pred, squared=False)\n",
    "print(\"RMSE: \", rmse_err)\n",
    "\n",
    "mse_err = mean_squared_error(y_test, y_pred)\n",
    "print(\"MSE: \", mse_err)\n",
    "\n",
    "mae_err = mean_absolute_error(y_test, y_pred)\n",
    "print(\"MAE: \", mae_err)\n",
    "\n",
    "r2_err = r2_score(y_test, y_pred)\n",
    "print(\"R2: \", r2_err)"
   ]
  },
  {
   "attachments": {},
   "cell_type": "markdown",
   "metadata": {},
   "source": [
    "### Decision Trees"
   ]
  },
  {
   "cell_type": "code",
   "execution_count": null,
   "metadata": {},
   "outputs": [],
   "source": [
    "dt_model = DecisionTreeRegressor(random_state=42)\n",
    "dt_model.fit(X_train, y_train)\n",
    "y_pred = dt_model.predict(X_test)"
   ]
  },
  {
   "cell_type": "code",
   "execution_count": null,
   "metadata": {},
   "outputs": [
    {
     "name": "stdout",
     "output_type": "stream",
     "text": [
      "RMSE:  0.37756179868221745\n",
      "MSE:  0.16926191266440394\n",
      "MAE:  0.3513518240167151\n",
      "R2:  -22.60872632426371\n"
     ]
    }
   ],
   "source": [
    "rmse_err = mean_squared_error(y_test, y_pred, squared=False)\n",
    "print(\"RMSE: \", rmse_err)\n",
    "\n",
    "mse_err = mean_squared_error(y_test, y_pred)\n",
    "print(\"MSE: \", mse_err)\n",
    "\n",
    "mae_err = mean_absolute_error(y_test, y_pred)\n",
    "print(\"MAE: \", mae_err)\n",
    "\n",
    "r2_err = r2_score(y_test, y_pred)\n",
    "print(\"R2: \", r2_err)"
   ]
  },
  {
   "attachments": {},
   "cell_type": "markdown",
   "metadata": {},
   "source": [
    "### Random Forest"
   ]
  },
  {
   "cell_type": "code",
   "execution_count": 61,
   "metadata": {},
   "outputs": [
    {
     "data": {
      "text/plain": [
       "RandomForestRegressor(random_state=42)"
      ]
     },
     "execution_count": 61,
     "metadata": {},
     "output_type": "execute_result"
    }
   ],
   "source": [
    "rf_model = RandomForestRegressor(n_estimators=100, random_state=42)\n",
    "rf_model.fit(X_train, y_train)"
   ]
  },
  {
   "cell_type": "code",
   "execution_count": 62,
   "metadata": {},
   "outputs": [],
   "source": [
    "y_pred = rf_model.predict(X_test)"
   ]
  },
  {
   "cell_type": "code",
   "execution_count": 64,
   "metadata": {},
   "outputs": [
    {
     "name": "stdout",
     "output_type": "stream",
     "text": [
      "RMSE:  0.3772545341372799\n",
      "MSE:  0.1690018937028704\n",
      "MAE:  0.35104500416445694\n",
      "R2:  -22.563984091074115\n"
     ]
    }
   ],
   "source": [
    "rmse_err = mean_squared_error(y_test, y_pred, squared=False)\n",
    "print(\"RMSE: \", rmse_err)\n",
    "\n",
    "mse_err = mean_squared_error(y_test, y_pred)\n",
    "print(\"MSE: \", mse_err)\n",
    "\n",
    "mae_err = mean_absolute_error(y_test, y_pred)\n",
    "print(\"MAE: \", mae_err)\n",
    "\n",
    "r2_err = r2_score(y_test, y_pred)\n",
    "print(\"R2: \", r2_err)"
   ]
  },
  {
   "attachments": {},
   "cell_type": "markdown",
   "metadata": {},
   "source": [
    "-------"
   ]
  },
  {
   "attachments": {},
   "cell_type": "markdown",
   "metadata": {},
   "source": [
    "#### I choose Linear Regression or Decision Trees for this problem. The other algorithms just a proof for the error is not that big. Our dataset is not that large and does not have much columns so we don't need to use complex models or ensembling methods like stacking or bagging. Linear regression is fast and simple algorithm and very interpretable. But need to be linear relation between target and features. If there is no linearity between feature and target variables we can use decision trees. Decision trees can be a good choice for smaller datasets like this one, as they're not as computationally expensive as some other models and can handle non-linear relationships between the features and the target. In general we use supervised techniques and regression algorithms in these techniques. Because we have numerical target variable. Maybe another approach for this problem could be time series method. BUt the data is monthly so maybe it wouldn't be appropriate for this problem.\n"
   ]
  },
  {
   "attachments": {},
   "cell_type": "markdown",
   "metadata": {},
   "source": [
    "-------"
   ]
  }
 ],
 "metadata": {
  "kernelspec": {
   "display_name": "base",
   "language": "python",
   "name": "python3"
  },
  "language_info": {
   "codemirror_mode": {
    "name": "ipython",
    "version": 3
   },
   "file_extension": ".py",
   "mimetype": "text/x-python",
   "name": "python",
   "nbconvert_exporter": "python",
   "pygments_lexer": "ipython3",
   "version": "3.7.11"
  },
  "orig_nbformat": 4
 },
 "nbformat": 4,
 "nbformat_minor": 2
}
